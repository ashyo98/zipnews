{
  "cells": [
    {
      "cell_type": "code",
      "execution_count": 1,
      "metadata": {
        "colab": {
          "base_uri": "https://localhost:8080/"
        },
        "id": "zc4EKiVem3Tt",
        "outputId": "1943a34d-d70b-45ea-9a97-b4e2ace255db"
      },
      "outputs": [
        {
          "name": "stdout",
          "output_type": "stream",
          "text": [
            "Looking in indexes: https://pypi.org/simple, https://us-python.pkg.dev/colab-wheels/public/simple/\n",
            "Requirement already satisfied: pyspark in /usr/local/lib/python3.9/dist-packages (3.4.0)\n",
            "Requirement already satisfied: py4j==0.10.9.7 in /usr/local/lib/python3.9/dist-packages (from pyspark) (0.10.9.7)\n"
          ]
        }
      ],
      "source": [
        "!pip install pyspark\n"
      ]
    },
    {
      "cell_type": "code",
      "execution_count": 2,
      "metadata": {
        "id": "wA2orHy4m7xE"
      },
      "outputs": [],
      "source": [
        "import pyspark\n",
        "import pandas as pd\n",
        "import tensorflow as tf\n",
        "from google.colab import files\n",
        "\n",
        "\n",
        "from pyspark.sql import SparkSession\n",
        "\n",
        "from pyspark import SparkContext\n"
      ]
    },
    {
      "cell_type": "code",
      "execution_count": 3,
      "metadata": {
        "id": "yI7Mkfsom73h"
      },
      "outputs": [],
      "source": [
        "import warnings\n",
        "warnings.filterwarnings('ignore')"
      ]
    },
    {
      "cell_type": "code",
      "execution_count": 4,
      "metadata": {
        "id": "tNduKMTRm76Z"
      },
      "outputs": [],
      "source": [
        "spark_context_sc = SparkContext(master='local[3]')\n",
        "spark_session = SparkSession.builder.appName(\"Categorizer\").getOrCreate()"
      ]
    },
    {
      "cell_type": "code",
      "execution_count": 5,
      "metadata": {
        "colab": {
          "base_uri": "https://localhost:8080/",
          "height": 39
        },
        "id": "T9FnatD8m78-",
        "outputId": "983cb434-5562-49f5-d99a-d283dca79072"
      },
      "outputs": [
        {
          "data": {
            "text/html": [
              "\n",
              "     <input type=\"file\" id=\"files-b6b838d0-cafc-4600-a1f7-2afb7ceed486\" name=\"files[]\" multiple disabled\n",
              "        style=\"border:none\" />\n",
              "     <output id=\"result-b6b838d0-cafc-4600-a1f7-2afb7ceed486\">\n",
              "      Upload widget is only available when the cell has been executed in the\n",
              "      current browser session. Please rerun this cell to enable.\n",
              "      </output>\n",
              "      <script>// Copyright 2017 Google LLC\n",
              "//\n",
              "// Licensed under the Apache License, Version 2.0 (the \"License\");\n",
              "// you may not use this file except in compliance with the License.\n",
              "// You may obtain a copy of the License at\n",
              "//\n",
              "//      http://www.apache.org/licenses/LICENSE-2.0\n",
              "//\n",
              "// Unless required by applicable law or agreed to in writing, software\n",
              "// distributed under the License is distributed on an \"AS IS\" BASIS,\n",
              "// WITHOUT WARRANTIES OR CONDITIONS OF ANY KIND, either express or implied.\n",
              "// See the License for the specific language governing permissions and\n",
              "// limitations under the License.\n",
              "\n",
              "/**\n",
              " * @fileoverview Helpers for google.colab Python module.\n",
              " */\n",
              "(function(scope) {\n",
              "function span(text, styleAttributes = {}) {\n",
              "  const element = document.createElement('span');\n",
              "  element.textContent = text;\n",
              "  for (const key of Object.keys(styleAttributes)) {\n",
              "    element.style[key] = styleAttributes[key];\n",
              "  }\n",
              "  return element;\n",
              "}\n",
              "\n",
              "// Max number of bytes which will be uploaded at a time.\n",
              "const MAX_PAYLOAD_SIZE = 100 * 1024;\n",
              "\n",
              "function _uploadFiles(inputId, outputId) {\n",
              "  const steps = uploadFilesStep(inputId, outputId);\n",
              "  const outputElement = document.getElementById(outputId);\n",
              "  // Cache steps on the outputElement to make it available for the next call\n",
              "  // to uploadFilesContinue from Python.\n",
              "  outputElement.steps = steps;\n",
              "\n",
              "  return _uploadFilesContinue(outputId);\n",
              "}\n",
              "\n",
              "// This is roughly an async generator (not supported in the browser yet),\n",
              "// where there are multiple asynchronous steps and the Python side is going\n",
              "// to poll for completion of each step.\n",
              "// This uses a Promise to block the python side on completion of each step,\n",
              "// then passes the result of the previous step as the input to the next step.\n",
              "function _uploadFilesContinue(outputId) {\n",
              "  const outputElement = document.getElementById(outputId);\n",
              "  const steps = outputElement.steps;\n",
              "\n",
              "  const next = steps.next(outputElement.lastPromiseValue);\n",
              "  return Promise.resolve(next.value.promise).then((value) => {\n",
              "    // Cache the last promise value to make it available to the next\n",
              "    // step of the generator.\n",
              "    outputElement.lastPromiseValue = value;\n",
              "    return next.value.response;\n",
              "  });\n",
              "}\n",
              "\n",
              "/**\n",
              " * Generator function which is called between each async step of the upload\n",
              " * process.\n",
              " * @param {string} inputId Element ID of the input file picker element.\n",
              " * @param {string} outputId Element ID of the output display.\n",
              " * @return {!Iterable<!Object>} Iterable of next steps.\n",
              " */\n",
              "function* uploadFilesStep(inputId, outputId) {\n",
              "  const inputElement = document.getElementById(inputId);\n",
              "  inputElement.disabled = false;\n",
              "\n",
              "  const outputElement = document.getElementById(outputId);\n",
              "  outputElement.innerHTML = '';\n",
              "\n",
              "  const pickedPromise = new Promise((resolve) => {\n",
              "    inputElement.addEventListener('change', (e) => {\n",
              "      resolve(e.target.files);\n",
              "    });\n",
              "  });\n",
              "\n",
              "  const cancel = document.createElement('button');\n",
              "  inputElement.parentElement.appendChild(cancel);\n",
              "  cancel.textContent = 'Cancel upload';\n",
              "  const cancelPromise = new Promise((resolve) => {\n",
              "    cancel.onclick = () => {\n",
              "      resolve(null);\n",
              "    };\n",
              "  });\n",
              "\n",
              "  // Wait for the user to pick the files.\n",
              "  const files = yield {\n",
              "    promise: Promise.race([pickedPromise, cancelPromise]),\n",
              "    response: {\n",
              "      action: 'starting',\n",
              "    }\n",
              "  };\n",
              "\n",
              "  cancel.remove();\n",
              "\n",
              "  // Disable the input element since further picks are not allowed.\n",
              "  inputElement.disabled = true;\n",
              "\n",
              "  if (!files) {\n",
              "    return {\n",
              "      response: {\n",
              "        action: 'complete',\n",
              "      }\n",
              "    };\n",
              "  }\n",
              "\n",
              "  for (const file of files) {\n",
              "    const li = document.createElement('li');\n",
              "    li.append(span(file.name, {fontWeight: 'bold'}));\n",
              "    li.append(span(\n",
              "        `(${file.type || 'n/a'}) - ${file.size} bytes, ` +\n",
              "        `last modified: ${\n",
              "            file.lastModifiedDate ? file.lastModifiedDate.toLocaleDateString() :\n",
              "                                    'n/a'} - `));\n",
              "    const percent = span('0% done');\n",
              "    li.appendChild(percent);\n",
              "\n",
              "    outputElement.appendChild(li);\n",
              "\n",
              "    const fileDataPromise = new Promise((resolve) => {\n",
              "      const reader = new FileReader();\n",
              "      reader.onload = (e) => {\n",
              "        resolve(e.target.result);\n",
              "      };\n",
              "      reader.readAsArrayBuffer(file);\n",
              "    });\n",
              "    // Wait for the data to be ready.\n",
              "    let fileData = yield {\n",
              "      promise: fileDataPromise,\n",
              "      response: {\n",
              "        action: 'continue',\n",
              "      }\n",
              "    };\n",
              "\n",
              "    // Use a chunked sending to avoid message size limits. See b/62115660.\n",
              "    let position = 0;\n",
              "    do {\n",
              "      const length = Math.min(fileData.byteLength - position, MAX_PAYLOAD_SIZE);\n",
              "      const chunk = new Uint8Array(fileData, position, length);\n",
              "      position += length;\n",
              "\n",
              "      const base64 = btoa(String.fromCharCode.apply(null, chunk));\n",
              "      yield {\n",
              "        response: {\n",
              "          action: 'append',\n",
              "          file: file.name,\n",
              "          data: base64,\n",
              "        },\n",
              "      };\n",
              "\n",
              "      let percentDone = fileData.byteLength === 0 ?\n",
              "          100 :\n",
              "          Math.round((position / fileData.byteLength) * 100);\n",
              "      percent.textContent = `${percentDone}% done`;\n",
              "\n",
              "    } while (position < fileData.byteLength);\n",
              "  }\n",
              "\n",
              "  // All done.\n",
              "  yield {\n",
              "    response: {\n",
              "      action: 'complete',\n",
              "    }\n",
              "  };\n",
              "}\n",
              "\n",
              "scope.google = scope.google || {};\n",
              "scope.google.colab = scope.google.colab || {};\n",
              "scope.google.colab._files = {\n",
              "  _uploadFiles,\n",
              "  _uploadFilesContinue,\n",
              "};\n",
              "})(self);\n",
              "</script> "
            ],
            "text/plain": [
              "<IPython.core.display.HTML object>"
            ]
          },
          "metadata": {},
          "output_type": "display_data"
        }
      ],
      "source": [
        "from google.colab import files\n",
        "upload = files.upload()"
      ]
    },
    {
      "cell_type": "code",
      "execution_count": 6,
      "metadata": {
        "colab": {
          "base_uri": "https://localhost:8080/"
        },
        "id": "Vgmj3z5_m8B6",
        "outputId": "7730f264-f2ef-4b43-87b3-c8c174dfbd98"
      },
      "outputs": [
        {
          "data": {
            "text/plain": [
              "Row(authors='Melissa Jeltsen', category='CRIME', date='2018-05-26', headline='There Were 2 Mass Shootings In Texas Last Week, But Only 1 On TV', link='https://www.huffingtonpost.com/entry/texas-amanda-painter-mass-shooting_us_5b081ab4e4b0802d69caad89', short_description='She left her husband. He killed their children. Just another day in America.')"
            ]
          },
          "execution_count": 6,
          "metadata": {},
          "output_type": "execute_result"
        }
      ],
      "source": [
        "df = spark_session.read.json(\"CategorizedNews.json\")\n",
        "df.head()"
      ]
    },
    {
      "cell_type": "code",
      "execution_count": 7,
      "metadata": {
        "colab": {
          "base_uri": "https://localhost:8080/"
        },
        "id": "D3SWfhb7m8Eh",
        "outputId": "d518cef5-d68a-41b8-8727-f724660f3a27"
      },
      "outputs": [
        {
          "data": {
            "text/plain": [
              "200853"
            ]
          },
          "execution_count": 7,
          "metadata": {},
          "output_type": "execute_result"
        }
      ],
      "source": [
        "df.count()"
      ]
    },
    {
      "cell_type": "code",
      "execution_count": 8,
      "metadata": {
        "colab": {
          "base_uri": "https://localhost:8080/"
        },
        "id": "Cz-70gJFm8Gn",
        "outputId": "ae142af5-8571-4b69-adf0-8e56e42602f4"
      },
      "outputs": [
        {
          "data": {
            "text/plain": [
              "10000"
            ]
          },
          "execution_count": 8,
          "metadata": {},
          "output_type": "execute_result"
        }
      ],
      "source": [
        "df = df.limit(10000)\n",
        "df.count()"
      ]
    },
    {
      "cell_type": "code",
      "execution_count": 9,
      "metadata": {
        "colab": {
          "base_uri": "https://localhost:8080/"
        },
        "id": "6aRn1akNm8I9",
        "outputId": "76574445-9143-4d98-ce6f-a5035d74ec02"
      },
      "outputs": [
        {
          "name": "stdout",
          "output_type": "stream",
          "text": [
            "+-------------+-----+\n",
            "|     category|count|\n",
            "+-------------+-----+\n",
            "|     POLITICS| 3604|\n",
            "|ENTERTAINMENT| 1906|\n",
            "|   WORLD NEWS|  683|\n",
            "| QUEER VOICES|  512|\n",
            "|       COMEDY|  495|\n",
            "| BLACK VOICES|  443|\n",
            "|       SPORTS|  382|\n",
            "|        MEDIA|  329|\n",
            "|        WOMEN|  283|\n",
            "|   WEIRD NEWS|  242|\n",
            "|        CRIME|  201|\n",
            "|     BUSINESS|  112|\n",
            "|LATINO VOICES|  105|\n",
            "|       IMPACT|   86|\n",
            "|       TRAVEL|   76|\n",
            "|     RELIGION|   76|\n",
            "|        STYLE|   70|\n",
            "|      PARENTS|   66|\n",
            "|        GREEN|   66|\n",
            "|         TECH|   65|\n",
            "+-------------+-----+\n",
            "only showing top 20 rows\n",
            "\n"
          ]
        }
      ],
      "source": [
        "df.groupby('category').count().sort('count', ascending=False).show()\n"
      ]
    },
    {
      "cell_type": "code",
      "execution_count": 10,
      "metadata": {
        "id": "-kplMEWUm8Lj"
      },
      "outputs": [],
      "source": [
        "from pyspark.sql import functions as fun\n",
        "df = df.withColumn('description', fun.concat(fun.col('headline'),fun.lit(' '), fun.col('short_description')))"
      ]
    },
    {
      "cell_type": "code",
      "execution_count": 11,
      "metadata": {
        "colab": {
          "base_uri": "https://localhost:8080/"
        },
        "id": "-mE4xALtm8OK",
        "outputId": "2284c09d-0b74-4085-d27c-8a7f853a610e"
      },
      "outputs": [
        {
          "name": "stdout",
          "output_type": "stream",
          "text": [
            "+-------------+--------------------+\n",
            "|     category|         description|\n",
            "+-------------+--------------------+\n",
            "|        CRIME|There Were 2 Mass...|\n",
            "|ENTERTAINMENT|Will Smith Joins ...|\n",
            "|ENTERTAINMENT|Hugh Grant Marrie...|\n",
            "|ENTERTAINMENT|Jim Carrey Blasts...|\n",
            "|ENTERTAINMENT|Julianna Margulie...|\n",
            "|ENTERTAINMENT|Morgan Freeman 'D...|\n",
            "|ENTERTAINMENT|Donald Trump Is L...|\n",
            "|ENTERTAINMENT|What To Watch On ...|\n",
            "|ENTERTAINMENT|Mike Myers Reveal...|\n",
            "|ENTERTAINMENT|What To Watch On ...|\n",
            "|ENTERTAINMENT|Justin Timberlake...|\n",
            "|   WORLD NEWS|South Korean Pres...|\n",
            "|       IMPACT|With Its Way Of L...|\n",
            "|     POLITICS|Trump's Crackdown...|\n",
            "|     POLITICS|'Trump's Son Shou...|\n",
            "|     POLITICS|Edward Snowden: T...|\n",
            "|     POLITICS|Booyah: Obama Pho...|\n",
            "|     POLITICS|Ireland Votes To ...|\n",
            "|     POLITICS|Ryan Zinke Looks ...|\n",
            "|     POLITICS|Trump's Scottish ...|\n",
            "+-------------+--------------------+\n",
            "only showing top 20 rows\n",
            "\n"
          ]
        }
      ],
      "source": [
        "df = df.drop(\"headline\", \"link\", \"authors\", \"short_description\", \"date\")\n",
        "df.show()"
      ]
    },
    {
      "cell_type": "code",
      "execution_count": 12,
      "metadata": {
        "colab": {
          "base_uri": "https://localhost:8080/"
        },
        "id": "SV1pXd5pm8Qg",
        "outputId": "737d5056-4063-4069-e1f0-56216a16eca0"
      },
      "outputs": [
        {
          "data": {
            "text/plain": [
              "['category', 'description']"
            ]
          },
          "execution_count": 12,
          "metadata": {},
          "output_type": "execute_result"
        }
      ],
      "source": [
        "from pyspark.ml.feature import IDF\n",
        "from pyspark.ml.feature import CountVectorizer\n",
        "from pyspark.ml.feature import StringIndexer\n",
        "from pyspark.ml.feature import Tokenizer\n",
        "from pyspark.ml.feature import StopWordsRemover\n",
        "\n",
        "\n",
        "df.columns"
      ]
    },
    {
      "cell_type": "code",
      "execution_count": 13,
      "metadata": {
        "colab": {
          "base_uri": "https://localhost:8080/"
        },
        "id": "ngatRISym8TH",
        "outputId": "fbe48ae2-7f00-4121-c106-b65670269558"
      },
      "outputs": [
        {
          "name": "stdout",
          "output_type": "stream",
          "text": [
            "+-------------+--------------------+\n",
            "|     category|         description|\n",
            "+-------------+--------------------+\n",
            "|        CRIME|There Were 2 Mass...|\n",
            "|ENTERTAINMENT|Will Smith Joins ...|\n",
            "|ENTERTAINMENT|Hugh Grant Marrie...|\n",
            "|ENTERTAINMENT|Jim Carrey Blasts...|\n",
            "|ENTERTAINMENT|Julianna Margulie...|\n",
            "|ENTERTAINMENT|Morgan Freeman 'D...|\n",
            "|ENTERTAINMENT|Donald Trump Is L...|\n",
            "|ENTERTAINMENT|What To Watch On ...|\n",
            "|ENTERTAINMENT|Mike Myers Reveal...|\n",
            "|ENTERTAINMENT|What To Watch On ...|\n",
            "|ENTERTAINMENT|Justin Timberlake...|\n",
            "|   WORLD NEWS|South Korean Pres...|\n",
            "|       IMPACT|With Its Way Of L...|\n",
            "|     POLITICS|Trump's Crackdown...|\n",
            "|     POLITICS|'Trump's Son Shou...|\n",
            "|     POLITICS|Edward Snowden: T...|\n",
            "|     POLITICS|Booyah: Obama Pho...|\n",
            "|     POLITICS|Ireland Votes To ...|\n",
            "|     POLITICS|Ryan Zinke Looks ...|\n",
            "|     POLITICS|Trump's Scottish ...|\n",
            "+-------------+--------------------+\n",
            "only showing top 20 rows\n",
            "\n"
          ]
        }
      ],
      "source": [
        "import pyspark.sql.functions as check\n",
        "\n",
        "df = df.where(check.col('description').isNotNull())\n",
        "df.show()"
      ]
    },
    {
      "cell_type": "code",
      "execution_count": 14,
      "metadata": {
        "id": "O1B3F0TroNvD"
      },
      "outputs": [],
      "source": [
        "token_create = Tokenizer(inputCol='description',outputCol='tokens')\n",
        "stopwordRemove = StopWordsRemover(inputCol='tokens',outputCol='removed_stopwords')\n",
        "vector_create = CountVectorizer(inputCol='removed_stopwords',outputCol='extracted_features')\n",
        "idf = IDF(inputCol='extracted_features',outputCol='vectorizedFeatures')"
      ]
    },
    {
      "cell_type": "code",
      "execution_count": 15,
      "metadata": {
        "colab": {
          "base_uri": "https://localhost:8080/"
        },
        "id": "ifCSx15goN2U",
        "outputId": "88b64b57-712f-4f0d-df97-f716b7ec6371"
      },
      "outputs": [
        {
          "name": "stdout",
          "output_type": "stream",
          "text": [
            "+-------------+--------------------+---------------+\n",
            "|     category|         description|category_number|\n",
            "+-------------+--------------------+---------------+\n",
            "|        CRIME|There Were 2 Mass...|           10.0|\n",
            "|ENTERTAINMENT|Will Smith Joins ...|            1.0|\n",
            "|ENTERTAINMENT|Hugh Grant Marrie...|            1.0|\n",
            "|ENTERTAINMENT|Jim Carrey Blasts...|            1.0|\n",
            "|ENTERTAINMENT|Julianna Margulie...|            1.0|\n",
            "|ENTERTAINMENT|Morgan Freeman 'D...|            1.0|\n",
            "|ENTERTAINMENT|Donald Trump Is L...|            1.0|\n",
            "|ENTERTAINMENT|What To Watch On ...|            1.0|\n",
            "|ENTERTAINMENT|Mike Myers Reveal...|            1.0|\n",
            "|ENTERTAINMENT|What To Watch On ...|            1.0|\n",
            "+-------------+--------------------+---------------+\n",
            "only showing top 10 rows\n",
            "\n"
          ]
        }
      ],
      "source": [
        "label_encoding = StringIndexer(inputCol='category',outputCol='category_number').fit(df)\n",
        "label_encoding.transform(df).show(10)"
      ]
    },
    {
      "cell_type": "code",
      "execution_count": 16,
      "metadata": {
        "colab": {
          "base_uri": "https://localhost:8080/"
        },
        "id": "YiABKgoloN5N",
        "outputId": "41d10fe4-ad1b-447e-83d4-77d7f536fbd1"
      },
      "outputs": [
        {
          "name": "stdout",
          "output_type": "stream",
          "text": [
            "Category Number 10.0  Category Name CRIME\n",
            "Category Number 1.0  Category Name ENTERTAINMENT\n",
            "Category Number 2.0  Category Name WORLD NEWS\n",
            "Category Number 13.0  Category Name IMPACT\n",
            "Category Number 0.0  Category Name POLITICS\n",
            "Category Number 9.0  Category Name WEIRD NEWS\n",
            "Category Number 5.0  Category Name BLACK VOICES\n",
            "Category Number 8.0  Category Name WOMEN\n",
            "Category Number 4.0  Category Name COMEDY\n",
            "Category Number 3.0  Category Name QUEER VOICES\n",
            "Category Number 6.0  Category Name SPORTS\n",
            "Category Number 11.0  Category Name BUSINESS\n",
            "Category Number 15.0  Category Name TRAVEL\n",
            "Category Number 7.0  Category Name MEDIA\n",
            "Category Number 19.0  Category Name TECH\n",
            "Category Number 14.0  Category Name RELIGION\n",
            "Category Number 21.0  Category Name SCIENCE\n",
            "Category Number 12.0  Category Name LATINO VOICES\n",
            "Category Number 22.0  Category Name EDUCATION\n",
            "Category Number 25.0  Category Name COLLEGE\n",
            "Category Number 18.0  Category Name PARENTS\n",
            "Category Number 24.0  Category Name ARTS & CULTURE\n",
            "Category Number 16.0  Category Name STYLE\n",
            "Category Number 17.0  Category Name GREEN\n",
            "Category Number 23.0  Category Name TASTE\n",
            "Category Number 20.0  Category Name HEALTHY LIVING\n"
          ]
        }
      ],
      "source": [
        "# Assume label_encoding is your StringIndexer object\n",
        "transformed_df = label_encoding.transform(df)\n",
        "\n",
        "# Get unique categories\n",
        "unique_categories = transformed_df.select('category_number', 'category').distinct().collect()\n",
        "#name = transformed_df.select('category').distinct().collect()\n",
        "\n",
        "# Print the unique categories\n",
        "for row in unique_categories:\n",
        "    print(\"Category Number\", row.category_number, \" Category Name\", row.category)"
      ]
    },
    {
      "cell_type": "code",
      "execution_count": 17,
      "metadata": {
        "colab": {
          "base_uri": "https://localhost:8080/"
        },
        "id": "9cDT1gwGoN7y",
        "outputId": "48071127-230d-4b99-b0ec-108cd3ba4d7c"
      },
      "outputs": [
        {
          "data": {
            "text/plain": [
              "['POLITICS',\n",
              " 'ENTERTAINMENT',\n",
              " 'WORLD NEWS',\n",
              " 'QUEER VOICES',\n",
              " 'COMEDY',\n",
              " 'BLACK VOICES',\n",
              " 'SPORTS',\n",
              " 'MEDIA',\n",
              " 'WOMEN',\n",
              " 'WEIRD NEWS',\n",
              " 'CRIME',\n",
              " 'BUSINESS',\n",
              " 'LATINO VOICES',\n",
              " 'IMPACT',\n",
              " 'RELIGION',\n",
              " 'TRAVEL',\n",
              " 'STYLE',\n",
              " 'GREEN',\n",
              " 'PARENTS',\n",
              " 'TECH',\n",
              " 'HEALTHY LIVING',\n",
              " 'SCIENCE',\n",
              " 'EDUCATION',\n",
              " 'TASTE',\n",
              " 'ARTS & CULTURE',\n",
              " 'COLLEGE']"
            ]
          },
          "execution_count": 17,
          "metadata": {},
          "output_type": "execute_result"
        }
      ],
      "source": [
        "label_encoding.labels\n"
      ]
    },
    {
      "cell_type": "code",
      "execution_count": 18,
      "metadata": {
        "id": "PPVDqGD_9hrL"
      },
      "outputs": [],
      "source": [
        "label_dict = {\n",
        "    0.0: 'POLITICS',\n",
        "    1.0: 'ENTERTAINMENT',\n",
        "    2.0: 'WORLD NEWS',\n",
        "    3.0: 'QUEER VOICES',\n",
        "    4.0: 'COMEDY',\n",
        "    5.0: 'BLACK VOICES',\n",
        "    6.0: 'SPORTS',\n",
        "    13.0: 'MEDIA',\n",
        "    8.0: 'WOMEN',\n",
        "    10.0: 'CRIME',\n",
        "    11.0: 'BUSINESS',\n",
        "    12.0: 'LATINO VOICES',\n",
        "    13.0: 'IMPACT',\n",
        "    14.0: 'RELIGION',\n",
        "    15.0: 'TRAVEL',\n",
        "    16.0: 'STYLE',\n",
        "    18.0: 'PARENTS',\n",
        "    19.0: 'TECH',\n",
        "    20.0: 'HEALTHY LIVING',\n",
        "    22.0: 'EDUCATION',\n",
        "    23.0: 'TASTE',\n",
        "    25.0: 'COLLEGE',\n",
        "    17.0: 'GREEN',\n",
        "    9.0: 'WEIRD NEWS',\n",
        "    24.0: 'ARTS $ CULTURE',\n",
        "    21.0: 'SCIENCE',\n",
        "    7.0: 'MEDIA'\n",
        "}\n"
      ]
    },
    {
      "cell_type": "code",
      "execution_count": 19,
      "metadata": {
        "colab": {
          "base_uri": "https://localhost:8080/"
        },
        "id": "NHJPUd2goOAi",
        "outputId": "6ea17804-8fa2-4afc-9ac4-5d56e011ab58"
      },
      "outputs": [
        {
          "name": "stdout",
          "output_type": "stream",
          "text": [
            "+-------------+--------------------+---------------+\n",
            "|     category|         description|category_number|\n",
            "+-------------+--------------------+---------------+\n",
            "|        CRIME|There Were 2 Mass...|           10.0|\n",
            "|ENTERTAINMENT|Will Smith Joins ...|            1.0|\n",
            "|ENTERTAINMENT|Hugh Grant Marrie...|            1.0|\n",
            "|ENTERTAINMENT|Jim Carrey Blasts...|            1.0|\n",
            "|ENTERTAINMENT|Julianna Margulie...|            1.0|\n",
            "|ENTERTAINMENT|Morgan Freeman 'D...|            1.0|\n",
            "|ENTERTAINMENT|Donald Trump Is L...|            1.0|\n",
            "|ENTERTAINMENT|What To Watch On ...|            1.0|\n",
            "|ENTERTAINMENT|Mike Myers Reveal...|            1.0|\n",
            "|ENTERTAINMENT|What To Watch On ...|            1.0|\n",
            "|ENTERTAINMENT|Justin Timberlake...|            1.0|\n",
            "|   WORLD NEWS|South Korean Pres...|            2.0|\n",
            "|       IMPACT|With Its Way Of L...|           13.0|\n",
            "|     POLITICS|Trump's Crackdown...|            0.0|\n",
            "|     POLITICS|'Trump's Son Shou...|            0.0|\n",
            "|     POLITICS|Edward Snowden: T...|            0.0|\n",
            "|     POLITICS|Booyah: Obama Pho...|            0.0|\n",
            "|     POLITICS|Ireland Votes To ...|            0.0|\n",
            "|     POLITICS|Ryan Zinke Looks ...|            0.0|\n",
            "|     POLITICS|Trump's Scottish ...|            0.0|\n",
            "|   WEIRD NEWS|Weird Father's Da...|            9.0|\n",
            "|ENTERTAINMENT|Twitter #PutStarW...|            1.0|\n",
            "|   WEIRD NEWS|Mystery 'Wolf-Lik...|            9.0|\n",
            "|   WORLD NEWS|North Korea Still...|            2.0|\n",
            "|   WORLD NEWS|2 Men Detonate Bo...|            2.0|\n",
            "|   WORLD NEWS|Thousands Travel ...|            2.0|\n",
            "|   WORLD NEWS|Irish Voters Set ...|            2.0|\n",
            "| BLACK VOICES|Warriors Coach St...|            5.0|\n",
            "| BLACK VOICES|In Historic Victo...|            5.0|\n",
            "| BLACK VOICES|Police Killed At ...|            5.0|\n",
            "|     POLITICS|Jack Johnson Was ...|            0.0|\n",
            "| BLACK VOICES|BET Chairman and ...|            5.0|\n",
            "|        CRIME|Rachel Dolezal Fa...|           10.0|\n",
            "|     POLITICS|Bishop Michael Cu...|            0.0|\n",
            "|ENTERTAINMENT|Kanye West Spent ...|            1.0|\n",
            "|        WOMEN|Morgan Freeman Dr...|            8.0|\n",
            "|     POLITICS|How The Chinese E...|            0.0|\n",
            "|       COMEDY|Trump's New 'MAGA...|            4.0|\n",
            "|       COMEDY|Seth Meyers Has 1...|            4.0|\n",
            "|       COMEDY|Colbert Wants To ...|            4.0|\n",
            "|        CRIME|Man Faces Charges...|           10.0|\n",
            "|       COMEDY|Jimmy Kimmel Know...|            4.0|\n",
            "|        CRIME|2 People Injured ...|           10.0|\n",
            "|ENTERTAINMENT|People Are Rattle...|            1.0|\n",
            "|ENTERTAINMENT|David Cross Prove...|            1.0|\n",
            "|ENTERTAINMENT|'Sesame Street' C...|            1.0|\n",
            "|ENTERTAINMENT|What You Missed A...|            1.0|\n",
            "|ENTERTAINMENT|George Takei Accu...|            1.0|\n",
            "|ENTERTAINMENT|Samantha Bee's Pa...|            1.0|\n",
            "|ENTERTAINMENT|Pete Davidson Say...|            1.0|\n",
            "|ENTERTAINMENT|James Corden And ...|            1.0|\n",
            "|ENTERTAINMENT|Emilia Clarke Dis...|            1.0|\n",
            "|ENTERTAINMENT|Hollywood Doesn't...|            1.0|\n",
            "|ENTERTAINMENT|Harvey Weinstein ...|            1.0|\n",
            "|ENTERTAINMENT|Harvey Weinstein ...|            1.0|\n",
            "|ENTERTAINMENT|John Mayer's Weir...|            1.0|\n",
            "|ENTERTAINMENT|Now Boba Fett Is ...|            1.0|\n",
            "|   WORLD NEWS|Trump Suggests No...|            2.0|\n",
            "|     POLITICS|Roger Stone Press...|            0.0|\n",
            "|     POLITICS|Publix Suspends C...|            0.0|\n",
            "|     POLITICS|Twitter Bots May ...|            0.0|\n",
            "|   WEIRD NEWS|A Bag Of Wet Sock...|            9.0|\n",
            "|     POLITICS|A Member Of The F...|            0.0|\n",
            "|     POLITICS|All The Things Th...|            0.0|\n",
            "|     POLITICS|Here's What Happe...|            0.0|\n",
            "|     POLITICS|Trump's New Execu...|            0.0|\n",
            "|       IMPACT|Monsanto And Baye...|           13.0|\n",
            "|        WOMEN|The Joy Of Watchi...|            8.0|\n",
            "|        WOMEN|The 20 Funniest T...|            8.0|\n",
            "| QUEER VOICES|'Queer Eye' Star ...|            3.0|\n",
            "| QUEER VOICES|Older Gay Men Try...|            3.0|\n",
            "| QUEER VOICES|How 'RuPaul’s Dra...|            3.0|\n",
            "|   WEIRD NEWS|Fish Market Buys ...|            9.0|\n",
            "|   WORLD NEWS|North Korea Threa...|            2.0|\n",
            "|   WORLD NEWS|Investigation Fin...|            2.0|\n",
            "|   WORLD NEWS|North Korea Demol...|            2.0|\n",
            "|   WORLD NEWS|How Kim Jong Un ‘...|            2.0|\n",
            "|     POLITICS|Michelle Obama Re...|            0.0|\n",
            "|       COMEDY|'Late Night' Writ...|            4.0|\n",
            "|        WOMEN|Morgan Freeman Ac...|            8.0|\n",
            "|       SPORTS|Jets Chairman Chr...|            6.0|\n",
            "|ENTERTAINMENT|Andy Cohen And Ta...|            1.0|\n",
            "|ENTERTAINMENT|'Infinity War' Wr...|            1.0|\n",
            "|ENTERTAINMENT|David Blaine Chew...|            1.0|\n",
            "|ENTERTAINMENT|Amy Poehler: A 'P...|            1.0|\n",
            "|       COMEDY|Colbert Exposes T...|            4.0|\n",
            "|       COMEDY|Seth Meyers Gives...|            4.0|\n",
            "|     BUSINESS|U.S. Launches Aut...|           11.0|\n",
            "| BLACK VOICES|This Women Pulled...|            5.0|\n",
            "| BLACK VOICES|Wife Asked Husban...|            5.0|\n",
            "|     POLITICS|Trump Roasted For...|            0.0|\n",
            "|     POLITICS|Trump Abruptly Ca...|            0.0|\n",
            "|     POLITICS|Devin Nunes-Linke...|            0.0|\n",
            "|     POLITICS|Immigrant Childre...|            0.0|\n",
            "|     POLITICS|Ireland's Histori...|            0.0|\n",
            "|     POLITICS|Trump Lawyer Atte...|            0.0|\n",
            "|     POLITICS|Senate Advances C...|            0.0|\n",
            "|     POLITICS|Rudy Giuliani: Tr...|            0.0|\n",
            "|     POLITICS|Kentucky Attorney...|            0.0|\n",
            "|     POLITICS|Chrissy Teigen Ta...|            0.0|\n",
            "+-------------+--------------------+---------------+\n",
            "only showing top 100 rows\n",
            "\n"
          ]
        }
      ],
      "source": [
        "df = label_encoding.transform(df)\n",
        "df.show(100)\n"
      ]
    },
    {
      "cell_type": "code",
      "execution_count": 20,
      "metadata": {
        "id": "gJBQWWhFoODF"
      },
      "outputs": [],
      "source": [
        "from pyspark.sql.functions import rand\n",
        "\n",
        "df = df.orderBy(rand(seed=21))\n",
        "train_df = df.limit(int(df.count() * 0.70))\n",
        "test_df = df.exceptAll(train_df)\n"
      ]
    },
    {
      "cell_type": "code",
      "execution_count": 21,
      "metadata": {
        "id": "HdNnHvYrm8V-"
      },
      "outputs": [],
      "source": [
        "#from pyspark.ml.classification import DecisionTreeClassifier\n",
        "#dt = DecisionTreeClassifier(featuresCol='vectorizedFeatures',labelCol='category_number')\n",
        "\n",
        "from pyspark.ml.classification import LogisticRegression\n",
        "logistic_reg = LogisticRegression(featuresCol='vectorizedFeatures',labelCol='category_number')\n"
      ]
    },
    {
      "cell_type": "code",
      "execution_count": 22,
      "metadata": {
        "id": "-YPyz04FrTni"
      },
      "outputs": [],
      "source": [
        "from pyspark.ml import Pipeline\n",
        "cat_pipeline = Pipeline(stages = [token_create, stopwordRemove, vector_create,idf,logistic_reg])"
      ]
    },
    {
      "cell_type": "code",
      "execution_count": 23,
      "metadata": {
        "colab": {
          "base_uri": "https://localhost:8080/"
        },
        "id": "sv1aZ6ulrTrp",
        "outputId": "7ca6dae8-5933-44cb-9ea8-18621672272c"
      },
      "outputs": [
        {
          "data": {
            "text/plain": [
              "Param(parent='Pipeline_7e1f569c1829', name='stages', doc='a list of pipeline stages')"
            ]
          },
          "execution_count": 23,
          "metadata": {},
          "output_type": "execute_result"
        }
      ],
      "source": [
        "cat_pipeline.stages\n"
      ]
    },
    {
      "cell_type": "code",
      "execution_count": 24,
      "metadata": {
        "id": "F9a9ijX2rTuh"
      },
      "outputs": [],
      "source": [
        "logistic_model = cat_pipeline.fit(train_df)\n"
      ]
    },
    {
      "cell_type": "code",
      "execution_count": 25,
      "metadata": {
        "id": "pZfxnDXGrTw4"
      },
      "outputs": [],
      "source": [
        "logistic_model\n",
        "preds = logistic_model.transform(test_df)"
      ]
    },
    {
      "cell_type": "code",
      "execution_count": 26,
      "metadata": {
        "colab": {
          "base_uri": "https://localhost:8080/"
        },
        "id": "D0QXKl0trTzN",
        "outputId": "f5cbf970-5f62-47d5-8286-40328cd8ebba"
      },
      "outputs": [
        {
          "data": {
            "text/plain": [
              "['category',\n",
              " 'description',\n",
              " 'category_number',\n",
              " 'tokens',\n",
              " 'removed_stopwords',\n",
              " 'extracted_features',\n",
              " 'vectorizedFeatures',\n",
              " 'rawPrediction',\n",
              " 'probability',\n",
              " 'prediction']"
            ]
          },
          "execution_count": 26,
          "metadata": {},
          "output_type": "execute_result"
        }
      ],
      "source": [
        "preds.columns"
      ]
    },
    {
      "cell_type": "code",
      "execution_count": 27,
      "metadata": {
        "colab": {
          "base_uri": "https://localhost:8080/"
        },
        "id": "TyVpAspmrT1j",
        "outputId": "1a3ca73a-2b96-4a47-d96e-2c9d576759c4"
      },
      "outputs": [
        {
          "name": "stdout",
          "output_type": "stream",
          "text": [
            "+--------------------+--------------------+--------------------+-------------+---------------+----------+\n",
            "|         description|       rawPrediction|         probability|     category|category_number|prediction|\n",
            "+--------------------+--------------------+--------------------+-------------+---------------+----------+\n",
            "|Trump Claims With...|[8.35310736422872...|[0.36156315470111...|     POLITICS|            0.0|       1.0|\n",
            "|94 Percent Of Hol...|[-0.5695281958545...|[0.00163890651875...|ENTERTAINMENT|            1.0|       1.0|\n",
            "|Trump Threatens A...|[11.1176599704702...|[0.11389348926235...|   WORLD NEWS|            2.0|       2.0|\n",
            "|This Ex-NFL Playe...|[1.93307018838857...|[0.01901316292647...|       SPORTS|            6.0|       1.0|\n",
            "|Black Parkland St...|[5.80949539195597...|[0.13252920793733...| BLACK VOICES|            5.0|       5.0|\n",
            "|Laura Ingraham An...|[-5.3165958182414...|[2.12902949132581...|        MEDIA|            7.0|       7.0|\n",
            "|A Generation Of H...|[8.87330457160014...|[0.27381377002198...|   WORLD NEWS|            2.0|       2.0|\n",
            "|NYPD Releases 911...|[-5.1000984735193...|[1.10239404774393...|        CRIME|           10.0|       5.0|\n",
            "|Kid Reads LGBTQ C...|[5.72684889343201...|[0.31128473888262...| QUEER VOICES|            3.0|       3.0|\n",
            "|Chrissy Teigen, J...|[-7.8875175826877...|[9.14643607300728...|ENTERTAINMENT|            1.0|       1.0|\n",
            "|Trump Takes Credi...|[15.5972786661363...|[0.99996550331819...|     POLITICS|            0.0|       0.0|\n",
            "|Sam Nunberg Says ...|[6.61968016851481...|[0.32120013377240...|        MEDIA|            7.0|       7.0|\n",
            "|New Fitness Trend...|[2.47224168650683...|[0.02102791495539...|   WEIRD NEWS|            9.0|       7.0|\n",
            "|Naomi Parker Fral...|[-1.7448854867456...|[7.33996755650617...|        WOMEN|            8.0|       6.0|\n",
            "|Christmas Rage Ro...|[3.12164530046603...|[0.03467324193279...|   WEIRD NEWS|            9.0|       8.0|\n",
            "|Amy Schumer Nails...|[-2.8249845033793...|[1.66140579454246...|ENTERTAINMENT|            1.0|       4.0|\n",
            "|Lena Dunham Under...|[0.86398547269000...|[8.66642318043545...|ENTERTAINMENT|            1.0|       1.0|\n",
            "|9 More Women Just...|[6.60255837314852...|[0.10733579936898...|ENTERTAINMENT|            1.0|       1.0|\n",
            "|'Late Night' Reim...|[1.59684917700020...|[0.00612817015422...|       COMEDY|            4.0|       4.0|\n",
            "|Mormon Church To ...|[-4.0764077813602...|[2.50611529732650...|     RELIGION|           14.0|       3.0|\n",
            "|U.S. Accuses Russ...|[13.1125083894136...|[0.75651532225209...|   WORLD NEWS|            2.0|       0.0|\n",
            "|U.S. Military Air...|[1.05817363886922...|[1.68295489666780...|   WORLD NEWS|            2.0|       2.0|\n",
            "|This Sad Version ...|[0.19880281859407...|[0.00130793205715...|     BUSINESS|           11.0|      11.0|\n",
            "|Gay Olympian John...|[-1.0164086452546...|[3.50792277938589...| QUEER VOICES|            3.0|       3.0|\n",
            "|'The Daily Show' ...|[3.69145274075245...|[0.03125786554233...|       COMEDY|            4.0|      10.0|\n",
            "|Bishop Michael Cu...|[0.32276872520918...|[2.47438180918761...|     RELIGION|           14.0|      14.0|\n",
            "|Trump Tweets Agai...|[6.04574634449112...|[0.81440792025872...|     POLITICS|            0.0|       0.0|\n",
            "|National Enquirer...|[9.98356308215700...|[0.99845512693660...|        MEDIA|            7.0|       0.0|\n",
            "|Jimmy Fallon Shar...|[-5.8112004736487...|[2.53445771490610...|       COMEDY|            4.0|       1.0|\n",
            "|Eric Trump Gets M...|[7.74341500326648...|[0.90745534997483...|     POLITICS|            0.0|       0.0|\n",
            "|The 'Grey Gardens...|[4.58911764817690...|[4.31434298781443...|ENTERTAINMENT|            1.0|       1.0|\n",
            "|The Beauty Of Don...|[6.47988354943665...|[0.91148195994298...| BLACK VOICES|            5.0|       0.0|\n",
            "|7 Ways To Improve...|[1.45527109858089...|[0.00148540161618...|      PARENTS|           18.0|       3.0|\n",
            "|White House Relea...|[13.5360776420527...|[0.99616259674284...|     POLITICS|            0.0|       0.0|\n",
            "|Colbert Solves Th...|[3.81322428073081...|[0.00115967678712...|       COMEDY|            4.0|       4.0|\n",
            "|CNN's Jake Tapper...|[-0.2723314096715...|[9.61533204792160...|       SPORTS|            6.0|       1.0|\n",
            "|Solar Jobs Fell F...|[10.9115559410023...|[0.99942967137955...|     BUSINESS|           11.0|       0.0|\n",
            "|White House Offic...|[15.0287340626236...|[0.99998679491002...|     POLITICS|            0.0|       0.0|\n",
            "|LGBTQ Alabamians ...|[16.2256058203226...|[0.99995177139888...| QUEER VOICES|            3.0|       0.0|\n",
            "|Eminem: 'A F**kin...|[9.09547059771638...|[0.95295514581784...|ENTERTAINMENT|            1.0|       0.0|\n",
            "|41 Photos Of Pres...|[0.46417532678159...|[0.01099048680265...|     POLITICS|            0.0|       3.0|\n",
            "|Apparently, Littl...|[-1.0008757289977...|[9.60777529576491...|      PARENTS|           18.0|       1.0|\n",
            "|Funny Or Die's Re...|[-5.0815601351525...|[2.92418262527176...|       COMEDY|            4.0|      22.0|\n",
            "|Chrissy Teigen Go...|[-3.8535015165767...|[1.37282892558633...|ENTERTAINMENT|            1.0|       1.0|\n",
            "|U.S. Official Foc...|[24.1309229749505...|[0.99999999914701...|     POLITICS|            0.0|       0.0|\n",
            "|'Singing' Road Is...|[10.6495044843229...|[0.99712485763085...|   WEIRD NEWS|            9.0|       0.0|\n",
            "|Russia’s Anti-Gay...|[-0.1480487187726...|[0.00315338831671...| QUEER VOICES|            3.0|       1.0|\n",
            "|Cardi B To Be Fir...|[-16.674256405164...|[2.94139976998853...|ENTERTAINMENT|            1.0|       1.0|\n",
            "|Ryan Murphy To Do...|[0.76003350242963...|[9.87825133839297...| QUEER VOICES|            3.0|       3.0|\n",
            "|The 7 Best Netfli...|[-4.2341496991477...|[7.14855481009391...|ENTERTAINMENT|            1.0|       1.0|\n",
            "+--------------------+--------------------+--------------------+-------------+---------------+----------+\n",
            "only showing top 50 rows\n",
            "\n"
          ]
        }
      ],
      "source": [
        "preds.select('description','rawPrediction', 'probability','category','category_number','prediction').show(50)"
      ]
    },
    {
      "cell_type": "code",
      "execution_count": 28,
      "metadata": {
        "colab": {
          "base_uri": "https://localhost:8080/"
        },
        "id": "altsOhHnrT6g",
        "outputId": "605aa71f-4eb6-4a1e-c75d-2abcde80b378"
      },
      "outputs": [
        {
          "data": {
            "text/plain": [
              "59.93828170582442"
            ]
          },
          "execution_count": 28,
          "metadata": {},
          "output_type": "execute_result"
        }
      ],
      "source": [
        "from pyspark.ml.evaluation import MulticlassClassificationEvaluator\n",
        "evaluator = MulticlassClassificationEvaluator(predictionCol='prediction',labelCol='category_number')\n",
        "\n",
        "evaluator.evaluate(preds)*100"
      ]
    },
    {
      "cell_type": "code",
      "execution_count": 29,
      "metadata": {
        "id": "c2Vf9BnurT9H"
      },
      "outputs": [],
      "source": [
        "from pyspark.mllib.evaluation import MulticlassMetrics\n",
        "logistic_reg_metric = MulticlassMetrics(preds['category_number','prediction'].rdd)\n"
      ]
    },
    {
      "cell_type": "code",
      "execution_count": 30,
      "metadata": {
        "colab": {
          "base_uri": "https://localhost:8080/"
        },
        "id": "BHPMLqdNrT_n",
        "outputId": "c165cf9c-dd38-43ae-84eb-8b3029427597"
      },
      "outputs": [
        {
          "name": "stdout",
          "output_type": "stream",
          "text": [
            "Accuracy  0.628\n",
            "precision  0.7455516014234875\n",
            "f1Score  0.6736334405144694\n",
            "recall  0.6143695014662757\n"
          ]
        }
      ],
      "source": [
        "print(\"Accuracy \", logistic_reg_metric.accuracy)\n",
        "print(\"precision \", logistic_reg_metric.precision(1.0))\n",
        "print(\"f1Score \", logistic_reg_metric.fMeasure(1.0))\n",
        "print(\"recall \", logistic_reg_metric.recall(1.0))"
      ]
    },
    {
      "cell_type": "markdown",
      "metadata": {
        "id": "cbddM62Lvdl6"
      },
      "source": [
        "We have built the model. Now using te model, we categorize the news from our dataset\n",
        "**bold text**"
      ]
    },
    {
      "cell_type": "code",
      "execution_count": 31,
      "metadata": {
        "colab": {
          "base_uri": "https://localhost:8080/"
        },
        "id": "UPYqe292vU2S",
        "outputId": "875aec97-be4e-42a1-9dd8-0d7abed01008"
      },
      "outputs": [
        {
          "name": "stdout",
          "output_type": "stream",
          "text": [
            "+--------------------+--------------------+-----------------+--------------------+--------------------+----------+--------+\n",
            "|                 _c0|                 _c1|              _c2|                 _c3|                 _c4|       _c5|     _c6|\n",
            "+--------------------+--------------------+-----------------+--------------------+--------------------+----------+--------+\n",
            "|                 url|               title|DomainCountryCode|            location|     contextual_text|state_code|category|\n",
            "|https://thedailyr...|Is tipping gettin...|               US|Cornell Universit...|about choosing th...|        NY|    null|\n",
            "|https://www.bicma...|U . S . natural g...|             null|North Dakota, Uni...|exports of lng wh...|        ND|    null|\n",
            "|https://news.prai...|ND COVID - 19 : 5...|               US|North Dakota, Uni...|dakota health and...|        ND|    null|\n",
            "|https://www.chesh...|cheshireherald . ...|               US|Times Square, New...|york city time sq...|        NY|    null|\n",
            "+--------------------+--------------------+-----------------+--------------------+--------------------+----------+--------+\n",
            "only showing top 5 rows\n",
            "\n"
          ]
        }
      ],
      "source": [
        "df2 = spark_session.read.csv(\"new_dataset.csv\")\n",
        "df2.show(5)"
      ]
    },
    {
      "cell_type": "code",
      "execution_count": 32,
      "metadata": {
        "id": "xnTvfGg0vUzs"
      },
      "outputs": [],
      "source": [
        "from pyspark.sql.functions import *\n",
        "\n",
        "# Read CSV file with custom column names\n",
        "df2 = spark_session.read.csv(\"new_dataset.csv\", header=True, inferSchema=True).toDF(*[\"_c0\", \"_c1\", \"_c2\",\"_c3\",\"_c4\",\"_c5\",\"_c6\"])\n",
        "\n",
        "# Rename columns to match Pandas DataFrame column names\n",
        "df2 = df2.withColumnRenamed(\"_c0\", \"url\")\\\n",
        "       .withColumnRenamed(\"_c1\", \"title\")\\\n",
        "       .withColumnRenamed(\"_c2\", \"DomainCountryCode\")\\\n",
        "       .withColumnRenamed(\"_c3\", \"location\")\\\n",
        "       .withColumnRenamed(\"_c4\", \"contextual_text\")\\\n",
        "       .withColumnRenamed(\"_c5\", \"state_code\")\\\n",
        "       .withColumnRenamed(\"_c6\", \"category\")\n"
      ]
    },
    {
      "cell_type": "code",
      "execution_count": 33,
      "metadata": {
        "colab": {
          "base_uri": "https://localhost:8080/"
        },
        "id": "vZWYo6NlvUxW",
        "outputId": "3cc6822e-f0c8-4367-db5a-2e02bd625e6c"
      },
      "outputs": [
        {
          "name": "stdout",
          "output_type": "stream",
          "text": [
            "+--------------------+--------------------+-----------------+--------------------+--------------------+----------+--------+\n",
            "|                 url|               title|DomainCountryCode|            location|     contextual_text|state_code|category|\n",
            "+--------------------+--------------------+-----------------+--------------------+--------------------+----------+--------+\n",
            "|https://thedailyr...|Is tipping gettin...|               US|Cornell Universit...|about choosing th...|        NY|    null|\n",
            "|https://www.bicma...|U . S . natural g...|             null|North Dakota, Uni...|exports of lng wh...|        ND|    null|\n",
            "|https://news.prai...|ND COVID - 19 : 5...|               US|North Dakota, Uni...|dakota health and...|        ND|    null|\n",
            "|https://www.chesh...|cheshireherald . ...|               US|Times Square, New...|york city time sq...|        NY|    null|\n",
            "|https://www.messe...|CVB gets $5 . 46 ...|               US|Owensboro, Kentuc...|county tourism ec...|        KY|    null|\n",
            "|https://k99.com/t...|Free Ride : Trans...|               US|Fort Collins, Col...|city of fort coll...|        CO|    null|\n",
            "|https://kxel.com/...|Providence establ...|               US|Rhode Island, Uni...|funds from covid ...|        RI|    null|\n",
            "|https://www.phoen...|Halberd Corporati...|               US|Jackson Center, P...|advancements expl...|        PA|    null|\n",
            "|https://jewishlin...|   New Under the Sun|             null|Boca Raton, Flori...|for the boca jewi...|        FL|    null|\n",
            "|https://kansaspub...|Headlines for Tue...|               US|South Dakota, Uni...|biden on covid 19...|        SD|    null|\n",
            "|https://www.al-mo...|OPEC+ likely to m...|               IS|Dallas, Texas, Un...|not out of the wo...|        TX|    null|\n",
            "|https://www.niaga...|Three in custody ...|               US|Niagara County, N...|deputies or troop...|        NY|    null|\n",
            "|https://www.goodh...|COVID - 19 Sore T...|               US|Houston, Texas, U...|causes a covid so...|        TX|    null|\n",
            "|https://www.lanca...|Heath commissione...|               US|Fairfield County,...|commissioner 2022...|        OH|    null|\n",
            "|https://thegrio.c...|Minnesota county ...|               US|Olmsted County, M...|minnesota analysi...|        MN|    null|\n",
            "|https://www.times...|CHI Memorial clos...|               US|East Brainerd, Te...|of steps to impro...|        TN|    null|\n",
            "|https://www.nbcsa...|Nurses Strike New...|               US|Manhattan, New Yo...|that leaves them ...|        NY|    null|\n",
            "|https://www.baker...|Facing the challe...|               US|Kern County, Cali...|in primary care a...|        CA|    null|\n",
            "|https://www.app.c...|Booker calls on E...|               US|Passaic, New Jers...|only 71 are requi...|        NJ|    null|\n",
            "|https://www.goloc...|GoLocalProv | Tho...|               US|Rhode Island, Uni...|entrepreneur wind...|        RI|    null|\n",
            "+--------------------+--------------------+-----------------+--------------------+--------------------+----------+--------+\n",
            "only showing top 20 rows\n",
            "\n"
          ]
        }
      ],
      "source": [
        "df2.show()"
      ]
    },
    {
      "cell_type": "code",
      "execution_count": 34,
      "metadata": {
        "id": "nHEiUcR_vUvA"
      },
      "outputs": [],
      "source": [
        "#df2 = df2.limit(1000)\n",
        "#df2.count()"
      ]
    },
    {
      "cell_type": "code",
      "execution_count": 35,
      "metadata": {
        "colab": {
          "base_uri": "https://localhost:8080/"
        },
        "id": "5V0ow-T-vUsp",
        "outputId": "19cdeb47-18d8-48fe-cf31-04ea7908731e"
      },
      "outputs": [
        {
          "name": "stdout",
          "output_type": "stream",
          "text": [
            "+--------------------+--------+\n",
            "|         description|category|\n",
            "+--------------------+--------+\n",
            "|Is tipping gettin...|    null|\n",
            "|U . S . natural g...|    null|\n",
            "|ND COVID - 19 : 5...|    null|\n",
            "|cheshireherald . ...|    null|\n",
            "|CVB gets $5 . 46 ...|    null|\n",
            "|Free Ride : Trans...|    null|\n",
            "|Providence establ...|    null|\n",
            "|Halberd Corporati...|    null|\n",
            "|New Under the Sun...|    null|\n",
            "|Headlines for Tue...|    null|\n",
            "|OPEC+ likely to m...|    null|\n",
            "|Three in custody ...|    null|\n",
            "|COVID - 19 Sore T...|    null|\n",
            "|Heath commissione...|    null|\n",
            "|Minnesota county ...|    null|\n",
            "|CHI Memorial clos...|    null|\n",
            "|Nurses Strike New...|    null|\n",
            "|Facing the challe...|    null|\n",
            "|Booker calls on E...|    null|\n",
            "|GoLocalProv | Tho...|    null|\n",
            "+--------------------+--------+\n",
            "only showing top 20 rows\n",
            "\n"
          ]
        }
      ],
      "source": [
        "from pyspark.sql import functions as sf2\n",
        "df2 = df2.withColumn('description', sf2.concat(sf2.col('title'),sf2.lit(' '), sf2.col('contextual_text')))\n",
        "\n",
        "df2 = df2.select(\"description\",\"category\")\n",
        "df2.show()"
      ]
    },
    {
      "cell_type": "code",
      "execution_count": 36,
      "metadata": {
        "id": "fmMPrXtD1EmU"
      },
      "outputs": [],
      "source": [
        "prediction_data = logistic_model.transform(df2)"
      ]
    },
    {
      "cell_type": "code",
      "execution_count": 37,
      "metadata": {
        "colab": {
          "base_uri": "https://localhost:8080/"
        },
        "id": "N-zlRDVk1iSc",
        "outputId": "81fb2cbf-a759-4cbe-bc68-bf5c17fc13f5"
      },
      "outputs": [
        {
          "data": {
            "text/plain": [
              "['description',\n",
              " 'category',\n",
              " 'tokens',\n",
              " 'removed_stopwords',\n",
              " 'extracted_features',\n",
              " 'vectorizedFeatures',\n",
              " 'rawPrediction',\n",
              " 'probability',\n",
              " 'prediction']"
            ]
          },
          "execution_count": 37,
          "metadata": {},
          "output_type": "execute_result"
        }
      ],
      "source": [
        "prediction_data.columns\n"
      ]
    },
    {
      "cell_type": "code",
      "execution_count": 38,
      "metadata": {
        "colab": {
          "base_uri": "https://localhost:8080/"
        },
        "id": "Kgl8Ndho1img",
        "outputId": "ff22da23-1561-4714-cd06-58e0f6e94779"
      },
      "outputs": [
        {
          "name": "stdout",
          "output_type": "stream",
          "text": [
            "+--------------------+--------------------+--------------------+--------+----------+\n",
            "|         description|       rawPrediction|         probability|category|prediction|\n",
            "+--------------------+--------------------+--------------------+--------+----------+\n",
            "|Is tipping gettin...|[22.6029391945904...|[0.99999858811471...|    null|       0.0|\n",
            "|U . S . natural g...|[-5.0522888037594...|[2.71276754279872...|    null|       2.0|\n",
            "|ND COVID - 19 : 5...|[16.1275007382884...|[0.03037190412818...|    null|      10.0|\n",
            "|cheshireherald . ...|[-6.6327148433153...|[2.23031363604884...|    null|      10.0|\n",
            "|CVB gets $5 . 46 ...|[2.90814275652290...|[2.24853210044316...|    null|       2.0|\n",
            "|Free Ride : Trans...|[23.5836248653638...|[0.99999955283581...|    null|       0.0|\n",
            "|Providence establ...|[13.0958445069729...|[0.96900269601528...|    null|       0.0|\n",
            "|Halberd Corporati...|[4.90768940942493...|[0.27746342822439...|    null|      20.0|\n",
            "|New Under the Sun...|[10.2804373190422...|[0.63407430552902...|    null|       0.0|\n",
            "|Headlines for Tue...|[30.2643541370588...|[0.99999999999158...|    null|       0.0|\n",
            "|OPEC+ likely to m...|[21.4950751781779...|[0.99846479530936...|    null|       0.0|\n",
            "|Three in custody ...|[-16.982197963117...|[1.39749606290058...|    null|      10.0|\n",
            "|COVID - 19 Sore T...|[-4.9020493082468...|[2.70092088747768...|    null|      13.0|\n",
            "|Heath commissione...|[28.0156421955445...|[0.99999960302654...|    null|       0.0|\n",
            "|Minnesota county ...|[21.5144420517068...|[0.99993576421270...|    null|       0.0|\n",
            "|CHI Memorial clos...|[19.5975698978372...|[0.99986509461473...|    null|       0.0|\n",
            "|Nurses Strike New...|[7.79650295365752...|[0.01345666223747...|    null|      12.0|\n",
            "|Facing the challe...|[23.5795956067253...|[0.99999997590788...|    null|       0.0|\n",
            "|Booker calls on E...|[8.29920068731758...|[0.01565655936077...|    null|       2.0|\n",
            "|GoLocalProv | Tho...|[-6.2908251344124...|[9.42987480865122...|    null|       6.0|\n",
            "|George Santos : E...|[0.72898259463921...|[4.77228864664227...|    null|      13.0|\n",
            "|Iowa lawmakers tr...|[29.6572612234316...|[0.99999999998972...|    null|       0.0|\n",
            "|National Mass Tor...|[7.85717862088400...|[0.01719885374890...|    null|       6.0|\n",
            "|Bills Mafia honor...|[-3.5877037259697...|[1.15910450533173...|    null|       5.0|\n",
            "|MLK Day events in...|[12.3865223742761...|[0.00915096196449...|    null|       5.0|\n",
            "|Sacramento County...|[-13.772003118033...|[2.69230004576626...|    null|       2.0|\n",
            "|Police : Lockdown...|[-19.391832758733...|[2.03750276789371...|    null|      10.0|\n",
            "|Mayors learn abou...|[-7.9385622948867...|[2.71564612242074...|    null|      15.0|\n",
            "|Biden announces c...|[19.1949139852328...|[0.99991703560528...|    null|       0.0|\n",
            "|Point - in - Time...|[11.5013224920861...|[0.98821879691222...|    null|       0.0|\n",
            "|EDITORIAL : Soari...|[6.71553126423770...|[0.36923584335285...|    null|       5.0|\n",
            "|DeSantis Picks PB...|[15.3706067865666...|[0.98883334836271...|    null|       0.0|\n",
            "|2022 airline boar...|[12.6565517881123...|[0.99787699237164...|    null|       0.0|\n",
            "|Community Calenda...|[-5.5421038775943...|[2.93913233632725...|    null|       2.0|\n",
            "|George Santo Mom ...|[-1.5285096553943...|[5.42074926175948...|    null|      13.0|\n",
            "|State House Dome ...|[-10.132297583573...|[5.94100596704929...|    null|       4.0|\n",
            "|Alex Ovechkin ret...|[12.5973598960674...|[0.95396470953655...|    null|       0.0|\n",
            "|Jamezetta Bedford...|[20.8489984907830...|[0.99999971990976...|    null|       0.0|\n",
            "|Cape Girardeau - ...|[15.4267922436374...|[0.99972051023936...|    null|       0.0|\n",
            "|Fear on the WSU c...|[-7.6656486074459...|[1.09715559192346...|    null|      10.0|\n",
            "|Iḷisaġvik College...|[29.4384028566078...|[0.99999999822998...|    null|       0.0|\n",
            "|Silver , Macron m...|[13.0549060069121...|[0.78035139488426...|    null|       0.0|\n",
            "|Gimme shelter : A...|[7.65530306898831...|[0.33704814282959...|    null|       6.0|\n",
            "|World Bank , Mald...|[9.66855007441432...|[7.14907984026522...|    null|       2.0|\n",
            "|Church Briefs for...|[-6.3265420317740...|[7.59094826954081...|    null|       2.0|\n",
            "|Bad Bunny , BLACK...|[-8.0865998074331...|[1.78729970724329...|    null|       5.0|\n",
            "|Matlin To Retire ...|[14.1347052016009...|[0.55898465410063...|    null|       0.0|\n",
            "|Coachella 2023 - ...|[-15.179263202593...|[5.44491027992352...|    null|       1.0|\n",
            "|Go ! Guide – Jan ...|[16.5123069449082...|[0.02335701412258...|    null|       4.0|\n",
            "|Local News | Bend...|[15.0627860327175...|[0.99992446451231...|    null|       0.0|\n",
            "|R . I . ranks 1st...|[-5.8769736993850...|[6.70513033722004...|    null|      18.0|\n",
            "|Coheed and Cambri...|[-37.453850509317...|[2.14786264870069...|    null|       1.0|\n",
            "|Moleculin to Pres...|[3.93906313286579...|[0.01633311578370...|    null|      19.0|\n",
            "|MLB / Japanese ri...|[-13.623959429109...|[2.11900457381662...|    null|       6.0|\n",
            "|Damar Hamlin GoFu...|[-14.554372854224...|[1.80424845984653...|    null|       6.0|\n",
            "|Harbaugh : ' I ex...|[1.45508043137005...|[1.97553636796295...|    null|       6.0|\n",
            "|Jan . 24 - CAFO p...|[11.3577048171936...|[0.72591982796493...|    null|       0.0|\n",
            "|Joe Burrow backgr...|[-10.751174733419...|[1.45821500255856...|    null|       6.0|\n",
            "|Volunteers return...|[16.0695748282079...|[0.99942536527752...|    null|       0.0|\n",
            "|$42 . 5B in feder...|[15.5071893453441...|[0.99824603826779...|    null|       0.0|\n",
            "|Phoenix Suns Cele...|[1.24062426479220...|[1.04081757559939...|    null|       1.0|\n",
            "|Hagens Berman : L...|[22.0147690976704...|[0.99999721392950...|    null|       0.0|\n",
            "|New grand jury in...|[55.8180053054881...|[1.0,2.0459119196...|    null|       0.0|\n",
            "|Growths on deer s...|[3.51513571630598...|[0.02347818263972...|    null|       6.0|\n",
            "|South Dakota Sena...|[24.8402598474012...|[0.99999999790679...|    null|       0.0|\n",
            "|Top247 ATH Jelani...|[-5.8118088490658...|[8.30047102980324...|    null|      10.0|\n",
            "|Dallas Incorporat...|[-6.4829533219368...|[1.33859501805575...|    null|       5.0|\n",
            "|BANKFIRST CAPITAL...|[12.0655045041589...|[0.97814948001888...|    null|       0.0|\n",
            "|Religion Briefs :...|[7.35298214200006...|[0.37382877034973...|    null|       0.0|\n",
            "|Alec Baldwin , cr...|[-4.5101269676896...|[7.44445286669685...|    null|      10.0|\n",
            "|Florida gas price...|[10.7248192856136...|[0.94552202414087...|    null|       0.0|\n",
            "|McLean County bac...|[18.2446291096779...|[0.99988515415071...|    null|       0.0|\n",
            "|An exit interview...|[51.4432452284307...|[1.0,4.5353410955...|    null|       0.0|\n",
            "|China economic vi...|[13.4049943829747...|[0.38924387930140...|    null|       2.0|\n",
            "|As births continu...|[22.7574836483445...|[0.99995327285487...|    null|       0.0|\n",
            "|Decrease in drug ...|[30.7410574896823...|[0.99999999999274...|    null|       0.0|\n",
            "|Monterey Park , a...|[-1.3709338774754...|[4.34579563603032...|    null|       3.0|\n",
            "|Post - COVID fina...|[39.0317759124365...|[0.99999999999997...|    null|       0.0|\n",
            "|2 Williamsburg Co...|[-5.3805008654449...|[5.87160995440768...|    null|      10.0|\n",
            "|Town will use fed...|[6.69159287314105...|[0.15367862979419...|    null|       2.0|\n",
            "|Commentary : How ...|[-24.579114235161...|[7.95201217521804...|    null|       1.0|\n",
            "|Could it be true ...|[1.90508848066457...|[5.02745272679411...|    null|      10.0|\n",
            "|Wyoming lawmaker ...|[24.3899356687544...|[0.99999973739339...|    null|       0.0|\n",
            "|Lawmakers say San...|[41.6516951766892...|[0.99999999999999...|    null|       0.0|\n",
            "|Is tipping gettin...|[29.5292377997777...|[0.99999999990822...|    null|       0.0|\n",
            "|Suit : Seaman lef...|[3.71524950001146...|[0.02966840001085...|    null|       2.0|\n",
            "|AG Kaul , Gov Eve...|[31.9946904330106...|[0.99999999333718...|    null|       0.0|\n",
            "| ' No Big Bang ':...|[23.5906018510871...|[0.99980854606194...|    null|       0.0|\n",
            "|Nurses Strike New...|[15.9653700131262...|[0.99166027428169...|    null|       0.0|\n",
            "|Elba High School ...|[19.9021596478026...|[0.99999943418832...|    null|       0.0|\n",
            "|As COVID - 19 sur...|[4.06078315558119...|[4.19500131172859...|    null|       2.0|\n",
            "|Mary Stewart , Wo...|[-20.045896771647...|[4.10452951684503...|    null|       2.0|\n",
            "|Simpson proposes ...|[18.6925276432735...|[0.99977159694424...|    null|       0.0|\n",
            "|Headlines : Offic...|[-4.1192313640026...|[1.12634041748050...|    null|      10.0|\n",
            "|Religion Listings...|[-6.4178957121036...|[1.30866031116957...|    null|       7.0|\n",
            "|Court to hear app...|[27.9934245967856...|[0.99999999930364...|    null|       0.0|\n",
            "|Reedy Creek discu...|[2.98093472248034...|[0.00194360163663...|    null|      15.0|\n",
            "|NIH Funds 8 Studi...|[-10.829501162023...|[2.20135228833674...|    null|      10.0|\n",
            "|SCVNews . com | J...|[-18.833655825301...|[8.65900245877518...|    null|      19.0|\n",
            "|Coronavirus : Pol...|[11.7345620470687...|[0.89397575970425...|    null|       0.0|\n",
            "+--------------------+--------------------+--------------------+--------+----------+\n",
            "only showing top 100 rows\n",
            "\n"
          ]
        }
      ],
      "source": [
        "prediction_data.select('description','rawPrediction', 'probability','category','prediction').show(100)\n"
      ]
    },
    {
      "cell_type": "code",
      "execution_count": 39,
      "metadata": {
        "id": "LkghOPxJ1i2X"
      },
      "outputs": [],
      "source": [
        "#predictions_data.write.format(\"csv\").option(\"header\", \"true\").mode(\"overwrite\").save(\"predictions.csv\")\n",
        "prediction_data.write.format('json').mode(\"overwrite\").save('path/to/output/file.json')"
      ]
    },
    {
      "cell_type": "code",
      "execution_count": 40,
      "metadata": {
        "id": "yvxMhO_P1sVs"
      },
      "outputs": [],
      "source": [
        "import pandas as pd\n",
        "\n",
        "predictions_data_pd = prediction_data.select(\"prediction\").toPandas()\n",
        "\n",
        "predictions_data_pd.to_csv(\"path/to/output/prediction_cat.csv\", index=False)"
      ]
    },
    {
      "cell_type": "code",
      "execution_count": 41,
      "metadata": {
        "colab": {
          "base_uri": "https://localhost:8080/",
          "height": 17
        },
        "id": "uD5WYNsU1s3h",
        "outputId": "f1daa951-eb00-4cf0-cdc0-26ffd756c7ee"
      },
      "outputs": [
        {
          "data": {
            "application/javascript": "\n    async function download(id, filename, size) {\n      if (!google.colab.kernel.accessAllowed) {\n        return;\n      }\n      const div = document.createElement('div');\n      const label = document.createElement('label');\n      label.textContent = `Downloading \"${filename}\": `;\n      div.appendChild(label);\n      const progress = document.createElement('progress');\n      progress.max = size;\n      div.appendChild(progress);\n      document.body.appendChild(div);\n\n      const buffers = [];\n      let downloaded = 0;\n\n      const channel = await google.colab.kernel.comms.open(id);\n      // Send a message to notify the kernel that we're ready.\n      channel.send({})\n\n      for await (const message of channel.messages) {\n        // Send a message to notify the kernel that we're ready.\n        channel.send({})\n        if (message.buffers) {\n          for (const buffer of message.buffers) {\n            buffers.push(buffer);\n            downloaded += buffer.byteLength;\n            progress.value = downloaded;\n          }\n        }\n      }\n      const blob = new Blob(buffers, {type: 'application/binary'});\n      const a = document.createElement('a');\n      a.href = window.URL.createObjectURL(blob);\n      a.download = filename;\n      div.appendChild(a);\n      a.click();\n      div.remove();\n    }\n  ",
            "text/plain": [
              "<IPython.core.display.Javascript object>"
            ]
          },
          "metadata": {},
          "output_type": "display_data"
        },
        {
          "data": {
            "application/javascript": "download(\"download_3a0d6e2e-519c-42db-8207-8b0b38e27b72\", \"prediction_cat.csv\", 325265)",
            "text/plain": [
              "<IPython.core.display.Javascript object>"
            ]
          },
          "metadata": {},
          "output_type": "display_data"
        }
      ],
      "source": [
        "from google.colab import files\n",
        "files.download('path/to/output/prediction_cat.csv')"
      ]
    }
  ],
  "metadata": {
    "colab": {
      "provenance": []
    },
    "kernelspec": {
      "display_name": "Python 3.9.12 ('base')",
      "language": "python",
      "name": "python3"
    },
    "language_info": {
      "name": "python",
      "version": "3.9.12"
    },
    "vscode": {
      "interpreter": {
        "hash": "913fd4c15cfc66aea2deff68f871ee9c023d6384f6b86da8b429f0dd3dd6d5dd"
      }
    }
  },
  "nbformat": 4,
  "nbformat_minor": 0
}
